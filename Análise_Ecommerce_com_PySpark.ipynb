{
  "cells": [
    {
      "cell_type": "markdown",
      "metadata": {
        "id": "qjZDwgaHSmwT"
      },
      "source": [
        "## Dados trabalhados"
      ]
    },
    {
      "cell_type": "markdown",
      "metadata": {
        "id": "XiDHP-LbS6FC"
      },
      "source": [
        "Este conjunto de dados foi fornecido pela maior loja de departamentos do mercado brasileiro. Depois que um cliente compra o produto, um vendedor é notificado para atender a esse pedido. Assim que o cliente recebe o produto, ou a data prevista de entrega está prevista, o cliente recebe um inquérito de satisfação por e-mail onde pode dar nota da experiência de compra e deixar alguns comentários. "
      ]
    },
    {
      "cell_type": "markdown",
      "metadata": {
        "id": "EmKUNSz0S-iK"
      },
      "source": [
        "### Pontos importantes\n",
        "1.     Um pedido pode ter vários itens.\n",
        "2.     Cada item pode ser atendido por um vendedor distinto.\n",
        "3.     Todo o texto identificando lojas e parceiros foi substituído pelos nomes das grandes casas de Game of Thrones."
      ]
    },
    {
      "cell_type": "markdown",
      "metadata": {
        "id": "E4dXQPJaRWzY"
      },
      "source": [
        "### Esquema de dados"
      ]
    },
    {
      "cell_type": "markdown",
      "metadata": {
        "id": "HXO6mQSGTF1W"
      },
      "source": [
        "Os dados são divididos em vários conjuntos de dados para melhor compreensão e organização. Consulte o esquema de dados a seguir ao trabalhar com ele:\n",
        "\n",
        "![Data Schema](https://i.imgur.com/HRhd2Y0.png)"
      ]
    },
    {
      "cell_type": "markdown",
      "metadata": {
        "id": "OvpkwGlBTNal"
      },
      "source": [
        "## Configuração do Spark"
      ]
    },
    {
      "cell_type": "code",
      "execution_count": null,
      "metadata": {
        "colab": {
          "background_save": true
        },
        "id": "cDhMwusJQBTX"
      },
      "outputs": [],
      "source": [
        "!apt-get install openjdk-8-jdk-headless -qq > /dev/null\n",
        "!wget -q https://dlcdn.apache.org/spark/spark-3.3.2/spark-3.3.2-bin-hadoop3.tgz\n",
        "!tar xf spark-3.3.2-bin-hadoop3.tgz\n",
        "!pip install pyspark==3.3.2\n",
        "!pip install -q findspark\n",
        "\n",
        "import os\n",
        "os.environ[\"JAVA_HOME\"] = \"/usr/lib/jvm/java-8-openjdk-amd64\"\n",
        "os.environ[\"SPARK_HOME\"] = \"/content/spark-3.3.2-bin-hadoop3\"\n",
        "\n",
        "import findspark\n",
        "findspark.init()\n",
        "\n",
        "# Criação da Sessão do Spark\n",
        "from pyspark.sql import SparkSession\n",
        "\n",
        "spark = SparkSession.builder \\\n",
        "    .master('local[*]') \\\n",
        "    .appName('Iniciando com Spark') \\\n",
        "    .config('spark.ui.port', '4050') \\\n",
        "    .getOrCreate()\n",
        "\n",
        "spark\n",
        "\n",
        "# Download do arquivo\n",
        "!wget -c --no-check-certificate \"https://onedrive.live.com/download?cid=08A3A632FA9EDBB1&resid=8A3A632FA9EDBB1%2110217&authkey=ACij76UvvMhutw8\" -O dataset.zip\n",
        "\n",
        "# Salvando CSVs\n",
        "!unzip /content/dataset.zip -d /content/dataset\n",
        "\n"
      ]
    },
    {
      "cell_type": "markdown",
      "metadata": {
        "id": "mEr3_b-2VPrw"
      },
      "source": [
        "### 1 - Adequação dos dados"
      ]
    },
    {
      "cell_type": "code",
      "execution_count": null,
      "metadata": {
        "colab": {
          "background_save": true
        },
        "id": "ozxURnsrVL0m"
      },
      "outputs": [],
      "source": [
        "# Criação dos datasets\n",
        "df_customers = spark.read.csv('/content/dataset/olist_customers_dataset.csv', header=True, inferSchema=True)\n",
        "df_geolocation = spark.read.csv('/content/dataset/olist_geolocation_dataset.csv', header=True, inferSchema=True)\n",
        "df_order_items = spark.read.csv('/content/dataset/olist_order_items_dataset.csv', header=True, inferSchema=True)\n",
        "df_order_payments = spark.read.csv('/content/dataset/olist_order_payments_dataset.csv', header=True, inferSchema=True)\n",
        "df_order_reviews = spark.read.csv('/content/dataset/olist_order_reviews_dataset.csv', header=True, inferSchema=True)\n",
        "df_orders = spark.read.csv('/content/dataset/olist_orders_dataset.csv', header=True, inferSchema=True)\n",
        "df_products = spark.read.csv('/content/dataset/olist_products_dataset.csv', header=True, inferSchema=True)\n",
        "df_sellers = spark.read.csv('/content/dataset/olist_sellers_dataset.csv', header=True, inferSchema=True)\n",
        "df_product_category_name = spark.read.csv('/content/dataset/product_category_name_translation.csv', header=True, inferSchema=True)"
      ]
    },
    {
      "cell_type": "code",
      "execution_count": null,
      "metadata": {
        "colab": {
          "background_save": true
        },
        "id": "dBCy80pDiIeB"
      },
      "outputs": [],
      "source": [
        "# Importar funções \n",
        "from pyspark.sql.functions import *"
      ]
    },
    {
      "cell_type": "code",
      "execution_count": null,
      "metadata": {
        "colab": {
          "background_save": true
        },
        "id": "VGfFINDViPfn"
      },
      "outputs": [],
      "source": [
        "## Adequação dos dados\n",
        "\n",
        "# Adequação customers\n",
        "def preprocessing(dataframe):\n",
        "    return (\n",
        "        dataframe\n",
        "        .select(\n",
        "        col('customer_id').cast('string'),\n",
        "        col('customer_unique_id').cast('string'),\n",
        "        col('customer_zip_code_prefix').cast('integer'),\n",
        "        col('customer_city').cast('string'),\n",
        "        col('customer_state').cast('string'),\n",
        "        )\n",
        "    )\n",
        "    \n",
        "processed_customers = preprocessing(df_customers)\n",
        "\n",
        "# Adequação geolocation\n",
        "def preprocessing(dataframe):\n",
        "    return (\n",
        "        dataframe\n",
        "        .select(\n",
        "        col('geolocation_zip_code_prefix').cast('integer'),\n",
        "        col('geolocation_lat').cast('integer'),\n",
        "        col('geolocation_lng').cast('integer'),\n",
        "        col('geolocation_city').cast('string'),\n",
        "        col('geolocation_state').cast('string'),\n",
        "        )\n",
        "    )\n",
        "    \n",
        "processed_geolocation = preprocessing(df_geolocation)\n",
        "\n",
        "# Adequação order_items\n",
        "def preprocessing(dataframe):\n",
        "    return (\n",
        "        dataframe\n",
        "        .select(\n",
        "        col('order_id').cast('string'),\n",
        "        col('order_item_id').cast('string'),\n",
        "        col('product_id').cast('string'),\n",
        "        col('seller_id').cast('string'),\n",
        "        col('shipping_limit_date').cast('timestamp'),\n",
        "        col('price').cast('double'),\n",
        "        col('freight_value').cast('double'),\n",
        "        )\n",
        "    )\n",
        "    \n",
        "processed_order_items = preprocessing(df_order_items)\n",
        "\n",
        "# Adequação order_payments\n",
        "def preprocessing(dataframe):\n",
        "    return (\n",
        "        dataframe\n",
        "        .select(\n",
        "        col('order_id').cast('string'),\n",
        "        col('payment_sequential').cast('integer'),\n",
        "        col('payment_type').cast('string'),\n",
        "        col('payment_installments').cast('integer'),\n",
        "        col('payment_value').cast('double'),\n",
        "        )\n",
        "    )\n",
        "    \n",
        "processed_order_payments = preprocessing(df_order_payments)\n",
        "\n",
        "# Adequação order_reviews\n",
        "def preprocessing(dataframe):\n",
        "    return (\n",
        "        dataframe\n",
        "        .select(\n",
        "        col('review_id').cast('string'),\n",
        "        col('order_id').cast('string'),\n",
        "        col('review_score').cast('integer'),\n",
        "        col('review_comment_title').cast('string'),\n",
        "        col('review_comment_message').cast('string'),\n",
        "        col('review_creation_date').cast('timestamp'),\n",
        "        col('review_answer_timestamp').cast('timestamp'),\n",
        "        )\n",
        "    )\n",
        "    \n",
        "processed_order_reviews = preprocessing(df_order_reviews)\n",
        "\n",
        "# Adequação orders\n",
        "def preprocessing(dataframe):\n",
        "    return (\n",
        "        dataframe\n",
        "        .select(\n",
        "        col('order_id').cast('string'),\n",
        "        col('customer_id').cast('string'),\n",
        "        col('order_status').cast('string'),\n",
        "        col('order_purchase_timestamp').cast('timestamp'),\n",
        "        col('order_approved_at').cast('timestamp'),\n",
        "        col('order_delivered_carrier_date').cast('timestamp'),\n",
        "        col('order_delivered_customer_date').cast('timestamp'),\n",
        "        col('order_estimated_delivery_date').cast('timestamp'),\n",
        "        )\n",
        "    )\n",
        "    \n",
        "processed_orders = preprocessing(df_orders)\n",
        "\n",
        "# Adequação products\n",
        "def preprocessing(dataframe):\n",
        "    return (\n",
        "        dataframe\n",
        "        .select(\n",
        "        col('product_id').cast('string'),\n",
        "        col('product_category_name').cast('string'),\n",
        "        col('product_name_lenght').cast('integer'),\n",
        "        col('product_description_lenght').cast('integer'),\n",
        "        col('product_photos_qty').cast('integer'),\n",
        "        col('product_weight_g').cast('integer'),\n",
        "        col('product_length_cm').cast('integer'),\n",
        "        col('product_height_cm').cast('integer'),\n",
        "        col('product_width_cm').cast('integer'),\n",
        "        )\n",
        "    )\n",
        "    \n",
        "processed_products = preprocessing(df_products)\n",
        "\n",
        "# Adequação sellers\n",
        "def preprocessing(dataframe):\n",
        "    return (\n",
        "        dataframe\n",
        "        .select(\n",
        "        col('seller_id').cast('string'),\n",
        "        col('seller_zip_code_prefix').cast('integer'),\n",
        "        col('seller_city').cast('string'),\n",
        "        col('seller_state').cast('string'),\n",
        "        )\n",
        "    )\n",
        "    \n",
        "processed_sellers = preprocessing(df_sellers)\n",
        "\n",
        "# Adequação product_category_name\n",
        "def preprocessing(dataframe):\n",
        "    return (\n",
        "        dataframe\n",
        "        .select(\n",
        "        col('product_category_name').cast('string'),\n",
        "        col('product_category_name_english').cast('string'),\n",
        "        )\n",
        "    )\n",
        "    \n",
        "processed_product_category_name = preprocessing(df_product_category_name)"
      ]
    },
    {
      "cell_type": "markdown",
      "metadata": {
        "id": "HuDUnmRFuMip"
      },
      "source": []
    },
    {
      "cell_type": "markdown",
      "metadata": {
        "id": "-iO3nQT8WwOu"
      },
      "source": [
        "## 2 - Criando uma base unificada\n",
        "Unificação dos datasets:\n",
        "- olist_orders_dataset\n",
        "- olist_order_items_dataset\n",
        "- olist_order_payments_dataset\n",
        "- olist_order_reviews_dataset"
      ]
    },
    {
      "cell_type": "code",
      "execution_count": null,
      "metadata": {
        "colab": {
          "background_save": true
        },
        "id": "Bo4SAzTCawmt"
      },
      "outputs": [],
      "source": [
        "#criacao das tabelas temporárias\n",
        "processed_orders.createOrReplaceTempView(\"sql_orders\")\n",
        "processed_order_items.createOrReplaceTempView(\"sql_items\")\n",
        "processed_order_payments.createOrReplaceTempView(\"sql_payments\")\n",
        "processed_order_reviews.createOrReplaceTempView(\"sql_reviews\")"
      ]
    },
    {
      "cell_type": "code",
      "execution_count": null,
      "metadata": {
        "colab": {
          "background_save": true
        },
        "id": "we291FprXUpZ"
      },
      "outputs": [],
      "source": [
        "#junção das tabelas em que seus IDs forem iguais\n",
        "df_orders_join = spark.sql(\"\"\" SELECT *\n",
        "FROM sql_orders\n",
        "INNER JOIN sql_items ON sql_orders.order_id = sql_items.order_id\n",
        "INNER JOIN sql_payments ON sql_orders.order_id = sql_payments.order_id\n",
        "INNER JOIN sql_reviews ON sql_orders.order_id = sql_reviews.order_id;\n",
        "\"\"\")"
      ]
    },
    {
      "cell_type": "markdown",
      "metadata": {
        "id": "r3NDqMaBc0FS"
      },
      "source": [
        "## 3 - Perguntas de negócio:\n",
        "- Qual foi o faturamento mês a mês? Qual o mês com maior número de pedidos?\n",
        "- Qual o ticket médio dos pedidos?\n",
        "- Qual o dia da semana com maior número de pedidos?\n",
        "- Quais são os Top 10 produtos mais bem avaliados? O produto deve ter pelo menos 5 avaliações.\n",
        "- Qual o faturamento mensal por método de pagamento?\n",
        "- Qual a categoria mais vendida na empresa?\n",
        "- Qual vendedor teve a melhor performance mês a mês?"
      ]
    },
    {
      "cell_type": "markdown",
      "metadata": {
        "id": "Kw5xzYgbayrB"
      },
      "source": [
        "## 4 - Qual foi o faturamento mês a mês? Qual o mês com maior número de pedidos?"
      ]
    },
    {
      "cell_type": "code",
      "execution_count": null,
      "metadata": {
        "colab": {
          "background_save": true
        },
        "id": "V68KihiDbAnK"
      },
      "outputs": [],
      "source": [
        "#extraindo os dados do DF original e extraindo o mês, o dia da semana e o ano\n",
        "df_vendas_por_ano_mes = df_orders_join \\\n",
        "    .withColumn(\"ano\", date_format(\"order_purchase_timestamp\", \"yyyy\")) \\\n",
        "    .withColumn(\"mes\", date_format(\"order_purchase_timestamp\", \"MM\")) \\\n",
        "    .withColumn(\"dia_da_semana\", date_format(\"order_purchase_timestamp\", \"E\"))\n"
      ]
    },
    {
      "cell_type": "code",
      "execution_count": null,
      "metadata": {
        "colab": {
          "background_save": true,
          "base_uri": "https://localhost:8080/"
        },
        "id": "qmkDP_pp7Fxd",
        "outputId": "eff5f6c8-83be-4050-bda5-483c402ec45b"
      },
      "outputs": [
        {
          "name": "stdout",
          "output_type": "stream",
          "text": [
            "+---+----+------------------+\n",
            "|mes| ano|       faturamento|\n",
            "+---+----+------------------+\n",
            "| 09|2016|132.39000000000001|\n",
            "| 10|2016|50272.470000000096|\n",
            "| 12|2016|              10.9|\n",
            "| 01|2017| 128589.0600000002|\n",
            "| 02|2017|259477.97999999818|\n",
            "| 03|2017|392081.03999999457|\n",
            "| 04|2017|389909.31999999506|\n",
            "| 05|2017| 544303.1299999962|\n",
            "| 06|2017|  453843.429999994|\n",
            "| 07|2017| 531931.7299999974|\n",
            "| 08|2017| 599081.0599999983|\n",
            "| 09|2017| 660526.8199999983|\n",
            "| 10|2017| 689624.8199999984|\n",
            "| 11|2017|1045441.0000000176|\n",
            "| 12|2017| 761677.3200000012|\n",
            "| 01|2018| 982295.3000000179|\n",
            "| 02|2018| 882310.8200000107|\n",
            "| 03|2018|1018392.5100000163|\n",
            "| 04|2018|1024458.7700000148|\n",
            "| 05|2018|1025932.0700000152|\n",
            "+---+----+------------------+\n",
            "only showing top 20 rows\n",
            "\n"
          ]
        }
      ],
      "source": [
        "#agrupa os dados por mes e ano, soma o preco dos agrupamentos e ordena-os\n",
        "df_faturamento_ano_mes = df_vendas_por_ano_mes \\\n",
        "    .groupBy(\"mes\", \"ano\") \\\n",
        "    .agg(sum(\"price\").alias(\"faturamento\")) \\\n",
        "    .orderBy(\"ano\", \"mes\") \\\n",
        "\n",
        "#mostra o faturamento por ano e mes\n",
        "df_faturamento_ano_mes.show()"
      ]
    },
    {
      "cell_type": "code",
      "execution_count": null,
      "metadata": {
        "colab": {
          "background_save": true,
          "base_uri": "https://localhost:8080/"
        },
        "id": "2OcAZ28c-UB-",
        "outputId": "02cf5904-77ae-4bcd-f126-c19c8120966f"
      },
      "outputs": [
        {
          "name": "stdout",
          "output_type": "stream",
          "text": [
            "O mês com o maior número de vendas foi o de número: 08\n"
          ]
        }
      ],
      "source": [
        "##descobrindo o mês com maior numero de pedidos\n",
        "\n",
        "#agrupar as vendas por mes\n",
        "pedidos_por_mes = df_vendas_por_ano_mes \\\n",
        "    .groupBy(\"mes\") \\\n",
        "    .agg(count(\"sql_items.order_id\").alias(\"numero vendas\")) \n",
        "\n",
        "#ordena por numero de vendas e pega o primeiro item em ordem decrescente\n",
        "mes_maior_numero_vendas = pedidos_por_mes.orderBy(desc(\"numero vendas\")).first()[\"mes\"] \n",
        "\n",
        "#mostra o mês com maior número de vendas\n",
        "print(\"O mês com o maior número de vendas foi o de número:\", mes_maior_numero_vendas)\n"
      ]
    },
    {
      "cell_type": "markdown",
      "metadata": {
        "id": "KLsDef10bKk9"
      },
      "source": [
        "## 5 - Qual o ticket médio dos pedidos?"
      ]
    },
    {
      "cell_type": "code",
      "execution_count": null,
      "metadata": {
        "colab": {
          "background_save": true,
          "base_uri": "https://localhost:8080/"
        },
        "id": "CPDcuRlobOU7",
        "outputId": "1b6c5aec-b8d5-42b2-e09d-40e178311add"
      },
      "outputs": [
        {
          "name": "stdout",
          "output_type": "stream",
          "text": [
            "+------------------+\n",
            "|        avg(price)|\n",
            "+------------------+\n",
            "|120.52434879704333|\n",
            "+------------------+\n",
            "\n"
          ]
        }
      ],
      "source": [
        "df_vendas_por_ano_mes.agg({'price': 'avg'}).show()"
      ]
    },
    {
      "cell_type": "markdown",
      "metadata": {
        "id": "RxEO-vmqbQhL"
      },
      "source": [
        "## 6 - Qual o dia da semana com maior número de pedidos?"
      ]
    },
    {
      "cell_type": "code",
      "execution_count": null,
      "metadata": {
        "colab": {
          "background_save": true,
          "base_uri": "https://localhost:8080/"
        },
        "id": "b3SAk88vbUv9",
        "outputId": "4a9654e7-9180-41fd-df09-a824d189d8d8"
      },
      "outputs": [
        {
          "name": "stdout",
          "output_type": "stream",
          "text": [
            "O dia da semana com o maior número de vendas foi: Tue\n"
          ]
        }
      ],
      "source": [
        "#conta os pedidos e os agrupa por dia da semana\n",
        "df_pedidos_por_semana = df_vendas_por_ano_mes \\\n",
        "  .groupBy('dia_da_semana') \\\n",
        "  .agg(count('sql_items.order_id').alias('numero_pedidos')) \\\n",
        "\n",
        "#ordena o agrupamento do maior para o menor e pega o primeiro item\n",
        "dia_semana_com_mais_pedidos = df_pedidos_por_semana.orderBy(desc('numero_pedidos')).first()['dia_da_semana']\n",
        "\n",
        "#imprime o dia da semana de maior numero de vendas\n",
        "print(\"O dia da semana com o maior número de vendas foi:\", dia_semana_com_mais_pedidos)\n"
      ]
    },
    {
      "cell_type": "markdown",
      "metadata": {
        "id": "0We-F9hk8HIn"
      },
      "source": [
        "## 7 - Quais são os Top 10 produtos mais bem avaliados? O produto deve ter pelo menos 5 avaliações."
      ]
    },
    {
      "cell_type": "code",
      "execution_count": null,
      "metadata": {
        "colab": {
          "background_save": true
        },
        "id": "kcwAj_0W8TLf"
      },
      "outputs": [],
      "source": [
        "#criando uma tabela temporária onde tem o numero de pedidos\n",
        "df_orders_join.createOrReplaceTempView('sql_orders_join')"
      ]
    },
    {
      "cell_type": "code",
      "execution_count": null,
      "metadata": {
        "colab": {
          "background_save": true,
          "base_uri": "https://localhost:8080/"
        },
        "id": "LLklj6oZjlDk",
        "outputId": "983815ed-7d7c-4f03-d377-bf3b8d0e6eb4"
      },
      "outputs": [
        {
          "name": "stdout",
          "output_type": "stream",
          "text": [
            "+--------------------+--------------+-------------+\n",
            "|          product_id|num_avaliacoes|soma_estrelas|\n",
            "+--------------------+--------------+-------------+\n",
            "|aca2eb7d00ea1a7b8...|           533|         2143|\n",
            "|99a4788cb24856965...|           517|         2024|\n",
            "|422879e10f4668299...|           507|         1991|\n",
            "|389d119b48cf3043d...|           405|         1663|\n",
            "|368c6c730842d7801...|           395|         1544|\n",
            "|53759a2ecddad2bb8...|           389|         1511|\n",
            "|d1c427060a0f73f6b...|           354|         1450|\n",
            "|53b36df67ebb7c415...|           324|         1361|\n",
            "|154e7e31ebfa09220...|           294|         1270|\n",
            "|3dd2a17168ec895c7...|           276|         1161|\n",
            "+--------------------+--------------+-------------+\n",
            "only showing top 10 rows\n",
            "\n"
          ]
        }
      ],
      "source": [
        "#agrupo por product_id, depois conto o numero de avaliacoes e somo as a quantidade de estrelas recebidas de cada produto\n",
        "#retiro os produtos que receberam menos de 5 avaliacoes com o .filter e ordeno a tabela do maior para o menor produto em soma de estrelas\n",
        "df_produtos_mais_bem_avaliados = df_orders_join \\\n",
        "  .groupBy('product_id') \\\n",
        "  .agg(count('review_score').alias('num_avaliacoes'), sum('review_score').alias('soma_estrelas')) \\\n",
        "  .filter(\"num_avaliacoes >= 5\") \\\n",
        "  .orderBy(desc('soma_estrelas'))\n",
        "\n",
        "#mostro os 10 produtos mais bem avaliados (com maior número de estrelas)\n",
        "df_produtos_mais_bem_avaliados.show(10)"
      ]
    },
    {
      "cell_type": "markdown",
      "metadata": {
        "id": "pEsncPjG8VqE"
      },
      "source": [
        "## 8 - Qual o faturamento mensal por método de pagamento?"
      ]
    },
    {
      "cell_type": "code",
      "execution_count": null,
      "metadata": {
        "colab": {
          "background_save": true,
          "base_uri": "https://localhost:8080/"
        },
        "id": "2UH9emgf8cdH",
        "outputId": "bc48ad1a-b490-4576-e26c-b848b12f0084"
      },
      "outputs": [
        {
          "name": "stdout",
          "output_type": "stream",
          "text": [
            "+---+----+------------+------------------+\n",
            "|mes| ano|payment_type|       faturamento|\n",
            "+---+----+------------+------------------+\n",
            "| 09|2016| credit_card|132.39000000000001|\n",
            "| 10|2016|      boleto|           7128.73|\n",
            "| 10|2016| credit_card| 41335.49000000005|\n",
            "| 10|2016|  debit_card|209.89000000000001|\n",
            "| 10|2016|     voucher|           1598.36|\n",
            "| 12|2016| credit_card|              10.9|\n",
            "| 01|2017|      boleto| 19897.47999999997|\n",
            "| 01|2017| credit_card| 98289.38000000027|\n",
            "| 01|2017|     voucher| 9813.329999999998|\n",
            "| 01|2017|  debit_card|            588.87|\n",
            "| 02|2017| credit_card|200339.37999999945|\n",
            "| 02|2017|      boleto| 47357.02000000008|\n",
            "| 02|2017|     voucher|10512.299999999994|\n",
            "| 02|2017|  debit_card|           1269.28|\n",
            "| 03|2017| credit_card|298680.48999999755|\n",
            "| 03|2017|      boleto| 66600.67000000023|\n",
            "| 03|2017|     voucher| 23674.32000000001|\n",
            "| 03|2017|  debit_card|3125.5600000000004|\n",
            "| 04|2017|  debit_card|2292.7200000000003|\n",
            "| 04|2017|      boleto| 67829.74000000024|\n",
            "+---+----+------------+------------------+\n",
            "only showing top 20 rows\n",
            "\n"
          ]
        }
      ],
      "source": [
        "#agrupa os dados por mes, ano e tipo de pagamento, soma o valor do preco da venda de cada agrupamento e os ordena\n",
        "faturamento_por_metodo_pgto = df_vendas_por_ano_mes \\\n",
        "  .groupBy('mes', 'ano', 'payment_type') \\\n",
        "  .agg(sum('price').alias('faturamento')) \\\n",
        "  .orderBy('ano', 'mes') \\\n",
        "  .show()"
      ]
    },
    {
      "cell_type": "markdown",
      "metadata": {
        "id": "xb-DRVvu8tph"
      },
      "source": [
        "## 9 - Qual a categoria mais vendida na empresa?"
      ]
    },
    {
      "cell_type": "code",
      "execution_count": null,
      "metadata": {
        "colab": {
          "background_save": true,
          "base_uri": "https://localhost:8080/"
        },
        "id": "JxPofxTo8xtH",
        "outputId": "fbfc6870-30c0-48c2-c47c-86da9f6ad42d"
      },
      "outputs": [
        {
          "name": "stdout",
          "output_type": "stream",
          "text": [
            "A categoria com o maior número de vendas foi: cama_mesa_banho\n"
          ]
        }
      ],
      "source": [
        "#cria a tabela temporária dos produtos porque preciso relacionar sua categoria com a order_id\n",
        "processed_products.createOrReplaceTempView(\"sql_products\")\n",
        "\n",
        "#join da tabela order_items e products para pegar sua caregoria\n",
        "df_vendas_e_categorias = spark.sql(\"\"\" SELECT *\n",
        "  FROM sql_items\n",
        "  INNER JOIN sql_products\n",
        "  ON sql_items.product_id == sql_products.product_id;\n",
        "\"\"\")\n",
        "\n",
        "#agrupar as vendas por categoria\n",
        "df_categorias_mais_vendidas = df_vendas_e_categorias \\\n",
        "  .groupBy('product_category_name') \\\n",
        "  .agg(count('order_id').alias('num_vendas')) \\\n",
        "\n",
        "#criação da variável da categoria mais vendida, ordenação para decrescente e funcao para pegar o primeiro item\n",
        "categoria_mais_vendida = df_categorias_mais_vendidas.orderBy(desc('num_vendas')).first()['product_category_name']\n",
        "print(\"A categoria com o maior número de vendas foi:\", categoria_mais_vendida)"
      ]
    },
    {
      "cell_type": "markdown",
      "metadata": {
        "id": "wBJDXwBR8zR6"
      },
      "source": [
        "## 10 - Qual vendedor teve a melhor performance mês a mês?"
      ]
    },
    {
      "cell_type": "code",
      "execution_count": null,
      "metadata": {
        "colab": {
          "background_save": true,
          "base_uri": "https://localhost:8080/"
        },
        "id": "aaU7zoox85M7",
        "outputId": "a4c7ae92-5132-43f3-caf6-29e9f67002d0"
      },
      "outputs": [
        {
          "name": "stdout",
          "output_type": "stream",
          "text": [
            "+---+----+--------------------+----------+\n",
            "|mes| ano|           seller_id|num_vendas|\n",
            "+---+----+--------------------+----------+\n",
            "| 11|2017|1f50f920176fa81da...|       371|\n",
            "| 05|2018|955fee9216a65b617...|       262|\n",
            "| 01|2018|955fee9216a65b617...|       256|\n",
            "| 04|2018|955fee9216a65b617...|       241|\n",
            "| 11|2017|cc419e0650a3c5ba7...|       222|\n",
            "| 07|2018|6560211a19b47992c...|       220|\n",
            "| 05|2018|7d13fca1522535862...|       216|\n",
            "| 01|2018|3d871de0142ce09b7...|       213|\n",
            "| 08|2018|6560211a19b47992c...|       211|\n",
            "| 11|2017|4a3ca9315b744ce9f...|       204|\n",
            "| 03|2018|7c67e1448b00f6e96...|       196|\n",
            "| 11|2017|6560211a19b47992c...|       192|\n",
            "| 12|2017|cc419e0650a3c5ba7...|       192|\n",
            "| 01|2018|da8622b14eb17ae28...|       192|\n",
            "| 02|2018|1f50f920176fa81da...|       190|\n",
            "| 05|2018|1025f0e2d44d7041d...|       187|\n",
            "| 01|2018|8b321bb669392f516...|       185|\n",
            "| 01|2018|ea8482cd71df3c196...|       185|\n",
            "| 02|2018|8b321bb669392f516...|       183|\n",
            "| 06|2018|6560211a19b47992c...|       180|\n",
            "+---+----+--------------------+----------+\n",
            "only showing top 20 rows\n",
            "\n"
          ]
        }
      ],
      "source": [
        "#melhor performance por numero de vendas, ordenado por maior numero de vendas\n",
        "df_melhores_vendedores_por_mes = df_vendas_por_ano_mes \\\n",
        "  .groupBy('mes', 'ano', 'seller_id') \\\n",
        "  .agg(count('sql_items.order_id').alias('num_vendas')) \\\n",
        "  .orderBy(desc('num_vendas')) \\\n",
        "  .show()\n",
        "\n",
        "#melhor performance por faturamento na célula abaixo\n"
      ]
    },
    {
      "cell_type": "code",
      "execution_count": null,
      "metadata": {
        "colab": {
          "background_save": true,
          "base_uri": "https://localhost:8080/"
        },
        "id": "OKnDgjsryh47",
        "outputId": "65fb23f8-58c7-4112-8b5c-07ae1c7a42f5"
      },
      "outputs": [
        {
          "name": "stdout",
          "output_type": "stream",
          "text": [
            "+---+----+--------------------+------------------+\n",
            "|mes| ano|           seller_id|       faturamento|\n",
            "+---+----+--------------------+------------------+\n",
            "| 09|2017|53243585a1d6dc264...| 75533.67000000003|\n",
            "| 10|2017|53243585a1d6dc264...|           43614.4|\n",
            "| 08|2017|53243585a1d6dc264...|           35776.0|\n",
            "| 05|2018|7d13fca1522535862...|32219.809999999998|\n",
            "| 03|2018|7d13fca1522535862...|          28612.44|\n",
            "| 05|2018|955fee9216a65b617...|28064.309999999976|\n",
            "| 05|2017|7e93a43ef30c4f03f...|27744.420000000006|\n",
            "| 04|2018|7d13fca1522535862...| 27600.88999999999|\n",
            "| 10|2017|7e93a43ef30c4f03f...|27381.509999999995|\n",
            "| 03|2018|4869f7a5dfa277a7d...|27169.999999999993|\n",
            "| 03|2018|7c67e1448b00f6e96...|25843.969999999972|\n",
            "| 03|2018|5dceca129747e92ff...|           24981.1|\n",
            "| 11|2017|53243585a1d6dc264...|          23213.96|\n",
            "| 12|2017|fa1c13f2614d7b5c4...| 22845.60999999999|\n",
            "| 04|2017|59417c56835dd8e2e...|           22665.0|\n",
            "| 11|2017|46dc3b2cc0980fb8e...|22388.819999999978|\n",
            "| 04|2018|955fee9216a65b617...|21969.099999999977|\n",
            "| 04|2018|4869f7a5dfa277a7d...|21553.399999999987|\n",
            "| 11|2017|4a3ca9315b744ce9f...|20844.249999999975|\n",
            "| 01|2018|4869f7a5dfa277a7d...|20541.299999999996|\n",
            "+---+----+--------------------+------------------+\n",
            "only showing top 20 rows\n",
            "\n"
          ]
        }
      ],
      "source": [
        "#melhor performance por faturamento ordenado por maior faturamento\n",
        "df_melhores_vendedores_por_mes = df_vendas_por_ano_mes \\\n",
        "  .groupBy('mes', 'ano', 'seller_id') \\\n",
        "  .agg(sum('price').alias('faturamento')) \\\n",
        "  .orderBy(desc('faturamento')) \\\n",
        "  .show()\n"
      ]
    }
  ],
  "metadata": {
    "colab": {
      "provenance": []
    },
    "kernelspec": {
      "display_name": "Python 3",
      "name": "python3"
    },
    "language_info": {
      "name": "python"
    }
  },
  "nbformat": 4,
  "nbformat_minor": 0
}
