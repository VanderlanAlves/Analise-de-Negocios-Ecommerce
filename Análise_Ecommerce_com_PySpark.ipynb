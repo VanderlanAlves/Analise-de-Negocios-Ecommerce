{
  "cells": [
    {
      "cell_type": "markdown",
      "metadata": {
        "id": "qjZDwgaHSmwT"
      },
      "source": [
        "## Dados trabalhados"
      ]
    },
    {
      "cell_type": "markdown",
      "metadata": {
        "id": "XiDHP-LbS6FC"
      },
      "source": [
        "Este conjunto de dados foi fornecido pela maior loja de departamentos do mercado brasileiro. Depois que um cliente compra o produto, um vendedor é notificado para atender a esse pedido. Assim que o cliente recebe o produto, ou a data prevista de entrega está prevista, o cliente recebe um inquérito de satisfação por e-mail onde pode dar nota da experiência de compra e deixar alguns comentários. "
      ]
    },
    {
      "cell_type": "markdown",
      "metadata": {
        "id": "EmKUNSz0S-iK"
      },
      "source": [
        "### Pontos importantes\n",
        "1.     Um pedido pode ter vários itens.\n",
        "2.     Cada item pode ser atendido por um vendedor distinto.\n",
        "3.     Todo o texto identificando lojas e parceiros foi substituído pelos nomes das grandes casas de Game of Thrones."
      ]
    },
    {
      "cell_type": "markdown",
      "metadata": {
        "id": "E4dXQPJaRWzY"
      },
      "source": [
        "### Esquema de dados"
      ]
    },
    {
      "cell_type": "markdown",
      "metadata": {
        "id": "HXO6mQSGTF1W"
      },
      "source": [
        "Os dados são divididos em vários conjuntos de dados para melhor compreensão e organização. Consulte o esquema de dados a seguir ao trabalhar com ele:\n",
        "\n",
        "![Data Schema](https://i.imgur.com/HRhd2Y0.png)"
      ]
    },
    {
      "cell_type": "markdown",
      "metadata": {
        "id": "OvpkwGlBTNal"
      },
      "source": [
        "## Configuração do Spark"
      ]
    },
    {
      "cell_type": "code",
      "execution_count": null,
      "metadata": {
        "colab": {
          "background_save": true
        },
        "id": "cDhMwusJQBTX"
      },
      "outputs": [],
      "source": [
        "!apt-get install openjdk-8-jdk-headless -qq > /dev/null\n",
        "!wget -q https://dlcdn.apache.org/spark/spark-3.3.2/spark-3.3.2-bin-hadoop3.tgz\n",
        "!tar xf spark-3.3.2-bin-hadoop3.tgz\n",
        "!pip install pyspark==3.3.2\n",
        "!pip install -q findspark\n",
        "\n",
        "import os\n",
        "os.environ[\"JAVA_HOME\"] = \"/usr/lib/jvm/java-8-openjdk-amd64\"\n",
        "os.environ[\"SPARK_HOME\"] = \"/content/spark-3.3.2-bin-hadoop3\"\n",
        "\n",
        "import findspark\n",
        "findspark.init()\n",
        "\n",
        "# Criação da Sessão do Spark\n",
        "from pyspark.sql import SparkSession\n",
        "\n",
        "spark = SparkSession.builder \\\n",
        "    .master('local[*]') \\\n",
        "    .appName('Iniciando com Spark') \\\n",
        "    .config('spark.ui.port', '4050') \\\n",
        "    .getOrCreate()\n",
        "\n",
        "spark\n",
        "\n",
        "# Download do arquivo\n",
        "!wget -c --no-check-certificate \"https://onedrive.live.com/download?cid=08A3A632FA9EDBB1&resid=8A3A632FA9EDBB1%2110217&authkey=ACij76UvvMhutw8\" -O dataset.zip\n",
        "\n",
        "# Salvando CSVs\n",
        "!unzip /content/dataset.zip -d /content/dataset\n",
        "\n"
      ]
    },
    {
      "cell_type": "markdown",
      "metadata": {
        "id": "mEr3_b-2VPrw"
      },
      "source": [
        "### 1 - Adequação dos dados"
      ]
    },
    {
      "cell_type": "code",
      "execution_count": null,
      "metadata": {
        "colab": {
          "background_save": true
        },
        "id": "ozxURnsrVL0m"
      },
      "outputs": [],
      "source": [
        "# Criação dos datasets\n",
        "df_customers = spark.read.csv('/content/dataset/olist_customers_dataset.csv', header=True, inferSchema=True)\n",
        "df_geolocation = spark.read.csv('/content/dataset/olist_geolocation_dataset.csv', header=True, inferSchema=True)\n",
        "df_order_items = spark.read.csv('/content/dataset/olist_order_items_dataset.csv', header=True, inferSchema=True)\n",
        "df_order_payments = spark.read.csv('/content/dataset/olist_order_payments_dataset.csv', header=True, inferSchema=True)\n",
        "df_order_reviews = spark.read.csv('/content/dataset/olist_order_reviews_dataset.csv', header=True, inferSchema=True)\n",
        "df_orders = spark.read.csv('/content/dataset/olist_orders_dataset.csv', header=True, inferSchema=True)\n",
        "df_products = spark.read.csv('/content/dataset/olist_products_dataset.csv', header=True, inferSchema=True)\n",
        "df_sellers = spark.read.csv('/content/dataset/olist_sellers_dataset.csv', header=True, inferSchema=True)\n",
        "df_product_category_name = spark.read.csv('/content/dataset/product_category_name_translation.csv', header=True, inferSchema=True)"
      ]
    },
    {
      "cell_type": "code",
      "execution_count": null,
      "metadata": {
        "colab": {
          "background_save": true
        },
        "id": "dBCy80pDiIeB"
      },
      "outputs": [],
      "source": [
        "# Importar funções \n",
        "from pyspark.sql.functions import *"
      ]
    },
    {
      "cell_type": "code",
      "execution_count": null,
      "metadata": {
        "colab": {
          "background_save": true
        },
        "id": "VGfFINDViPfn"
      },
      "outputs": [],
      "source": [
        "## Adequação dos dados\n",
        "\n",
        "# Adequação customers\n",
        "def preprocessing(dataframe):\n",
        "    return (\n",
        "        dataframe\n",
        "        .select(\n",
        "        col('customer_id').cast('string'),\n",
        "        col('customer_unique_id').cast('string'),\n",
        "        col('customer_zip_code_prefix').cast('integer'),\n",
        "        col('customer_city').cast('string'),\n",
        "        col('customer_state').cast('string'),\n",
        "        )\n",
        "    )\n",
        "    \n",
        "processed_customers = preprocessing(df_customers)\n",
        "\n",
        "# Adequação geolocation\n",
        "def preprocessing(dataframe):\n",
        "    return (\n",
        "        dataframe\n",
        "        .select(\n",
        "        col('geolocation_zip_code_prefix').cast('integer'),\n",
        "        col('geolocation_lat').cast('integer'),\n",
        "        col('geolocation_lng').cast('integer'),\n",
        "        col('geolocation_city').cast('string'),\n",
        "        col('geolocation_state').cast('string'),\n",
        "        )\n",
        "    )\n",
        "    \n",
        "processed_geolocation = preprocessing(df_geolocation)\n",
        "\n",
        "# Adequação order_items\n",
        "def preprocessing(dataframe):\n",
        "    return (\n",
        "        dataframe\n",
        "        .select(\n",
        "        col('order_id').cast('string'),\n",
        "        col('order_item_id').cast('string'),\n",
        "        col('product_id').cast('string'),\n",
        "        col('seller_id').cast('string'),\n",
        "        col('shipping_limit_date').cast('timestamp'),\n",
        "        col('price').cast('double'),\n",
        "        col('freight_value').cast('double'),\n",
        "        )\n",
        "    )\n",
        "    \n",
        "processed_order_items = preprocessing(df_order_items)\n",
        "\n",
        "# Adequação order_payments\n",
        "def preprocessing(dataframe):\n",
        "    return (\n",
        "        dataframe\n",
        "        .select(\n",
        "        col('order_id').cast('string'),\n",
        "        col('payment_sequential').cast('integer'),\n",
        "        col('payment_type').cast('string'),\n",
        "        col('payment_installments').cast('integer'),\n",
        "        col('payment_value').cast('double'),\n",
        "        )\n",
        "    )\n",
        "    \n",
        "processed_order_payments = preprocessing(df_order_payments)\n",
        "\n",
        "# Adequação order_reviews\n",
        "def preprocessing(dataframe):\n",
        "    return (\n",
        "        dataframe\n",
        "        .select(\n",
        "        col('review_id').cast('string'),\n",
        "        col('order_id').cast('string'),\n",
        "        col('review_score').cast('integer'),\n",
        "        col('review_comment_title').cast('string'),\n",
        "        col('review_comment_message').cast('string'),\n",
        "        col('review_creation_date').cast('timestamp'),\n",
        "        col('review_answer_timestamp').cast('timestamp'),\n",
        "        )\n",
        "    )\n",
        "    \n",
        "processed_order_reviews = preprocessing(df_order_reviews)\n",
        "\n",
        "# Adequação orders\n",
        "def preprocessing(dataframe):\n",
        "    return (\n",
        "        dataframe\n",
        "        .select(\n",
        "        col('order_id').cast('string'),\n",
        "        col('customer_id').cast('string'),\n",
        "        col('order_status').cast('string'),\n",
        "        col('order_purchase_timestamp').cast('timestamp'),\n",
        "        col('order_approved_at').cast('timestamp'),\n",
        "        col('order_delivered_carrier_date').cast('timestamp'),\n",
        "        col('order_delivered_customer_date').cast('timestamp'),\n",
        "        col('order_estimated_delivery_date').cast('timestamp'),\n",
        "        )\n",
        "    )\n",
        "    \n",
        "processed_orders = preprocessing(df_orders)\n",
        "\n",
        "# Adequação products\n",
        "def preprocessing(dataframe):\n",
        "    return (\n",
        "        dataframe\n",
        "        .select(\n",
        "        col('product_id').cast('string'),\n",
        "        col('product_category_name').cast('string'),\n",
        "        col('product_name_lenght').cast('integer'),\n",
        "        col('product_description_lenght').cast('integer'),\n",
        "        col('product_photos_qty').cast('integer'),\n",
        "        col('product_weight_g').cast('integer'),\n",
        "        col('product_length_cm').cast('integer'),\n",
        "        col('product_height_cm').cast('integer'),\n",
        "        col('product_width_cm').cast('integer'),\n",
        "        )\n",
        "    )\n",
        "    \n",
        "processed_products = preprocessing(df_products)\n",
        "\n",
        "# Adequação sellers\n",
        "def preprocessing(dataframe):\n",
        "    return (\n",
        "        dataframe\n",
        "        .select(\n",
        "        col('seller_id').cast('string'),\n",
        "        col('seller_zip_code_prefix').cast('integer'),\n",
        "        col('seller_city').cast('string'),\n",
        "        col('seller_state').cast('string'),\n",
        "        )\n",
        "    )\n",
        "    \n",
        "processed_sellers = preprocessing(df_sellers)\n",
        "\n",
        "# Adequação product_category_name\n",
        "def preprocessing(dataframe):\n",
        "    return (\n",
        "        dataframe\n",
        "        .select(\n",
        "        col('product_category_name').cast('string'),\n",
        "        col('product_category_name_english').cast('string'),\n",
        "        )\n",
        "    )\n",
        "    \n",
        "processed_product_category_name = preprocessing(df_product_category_name)"
      ]
    },
    {
      "cell_type": "markdown",
      "metadata": {
        "id": "HuDUnmRFuMip"
      },
      "source": []
    },
    {
      "cell_type": "markdown",
      "metadata": {
        "id": "-iO3nQT8WwOu"
      },
      "source": [
        "## 2 - Criando uma base unificada\n",
        "Unificação dos datasets:\n",
        "- olist_orders_dataset\n",
        "- olist_order_items_dataset\n",
        "- olist_order_payments_dataset\n",
        "- olist_order_reviews_dataset"
      ]
    },
    {
      "cell_type": "code",
      "execution_count": null,
      "metadata": {
        "colab": {
          "background_save": true
        },
        "id": "Bo4SAzTCawmt"
      },
      "outputs": [],
      "source": [
        "#criacao das tabelas temporárias\n",
        "processed_orders.createOrReplaceTempView(\"sql_orders\")\n",
        "processed_order_items.createOrReplaceTempView(\"sql_items\")\n",
        "processed_order_payments.createOrReplaceTempView(\"sql_payments\")\n",
        "processed_order_reviews.createOrReplaceTempView(\"sql_reviews\")"
      ]
    },
    {
      "cell_type": "code",
      "execution_count": null,
      "metadata": {
        "colab": {
          "background_save": true
        },
        "id": "we291FprXUpZ"
      },
      "outputs": [],
      "source": [
        "#junção das tabelas em que seus IDs forem iguais\n",
        "df_orders_join = spark.sql(\"\"\" SELECT *\n",
        "FROM sql_orders\n",
        "INNER JOIN sql_items ON sql_orders.order_id = sql_items.order_id\n",
        "INNER JOIN sql_payments ON sql_orders.order_id = sql_payments.order_id\n",
        "INNER JOIN sql_reviews ON sql_orders.order_id = sql_reviews.order_id;\n",
        "\"\"\")"
      ]
    },
    {
      "cell_type": "code",
      "execution_count": null,
      "metadata": {
        "colab": {
          "background_save": true,
          "base_uri": "https://localhost:8080/"
        },
        "id": "31VeD69TXw_Q",
        "outputId": "480ed386-6cc2-4a0d-ab5e-d7a4a44bed51"
      },
      "outputs": [
        {
          "name": "stdout",
          "output_type": "stream",
          "text": [
            "+--------------------+--------------------+------------+------------------------+-------------------+----------------------------+-----------------------------+-----------------------------+--------------------+-------------+--------------------+--------------------+-------------------+------+-------------+--------------------+------------------+------------+--------------------+-------------+--------------------+--------------------+------------+--------------------+----------------------+--------------------+-----------------------+\n",
            "|            order_id|         customer_id|order_status|order_purchase_timestamp|  order_approved_at|order_delivered_carrier_date|order_delivered_customer_date|order_estimated_delivery_date|            order_id|order_item_id|          product_id|           seller_id|shipping_limit_date| price|freight_value|            order_id|payment_sequential|payment_type|payment_installments|payment_value|           review_id|            order_id|review_score|review_comment_title|review_comment_message|review_creation_date|review_answer_timestamp|\n",
            "+--------------------+--------------------+------------+------------------------+-------------------+----------------------------+-----------------------------+-----------------------------+--------------------+-------------+--------------------+--------------------+-------------------+------+-------------+--------------------+------------------+------------+--------------------+-------------+--------------------+--------------------+------------+--------------------+----------------------+--------------------+-----------------------+\n",
            "|00018f77f2f0320c5...|f6dd3ec061db4e398...|   delivered|     2017-04-26 10:53:06|2017-04-26 11:05:13|         2017-05-04 14:35:00|          2017-05-12 16:04:24|          2017-05-15 00:00:00|00018f77f2f0320c5...|            1|e5f2d52b802189ee6...|dd7ddc04e1b6c2c61...|2017-05-03 11:05:13| 239.9|        19.93|00018f77f2f0320c5...|                 1| credit_card|                   3|       259.83|7b07bacd811c4117b...|00018f77f2f0320c5...|           4|                null|                  null| 2017-05-13 00:00:00|    2017-05-15 11:34:13|\n",
            "|000229ec398224ef6...|6489ae5e4333f3693...|   delivered|     2018-01-14 14:33:31|2018-01-14 14:48:30|         2018-01-16 12:36:48|          2018-01-22 13:19:16|          2018-02-05 00:00:00|000229ec398224ef6...|            1|c777355d18b72b67a...|5b51032eddd242adc...|2018-01-18 14:48:30| 199.0|        17.87|000229ec398224ef6...|                 1| credit_card|                   5|       216.87|0c5b33dea94867d1a...|000229ec398224ef6...|           5|                null|  Chegou antes do p...| 2018-01-23 00:00:00|    2018-01-23 16:06:31|\n",
            "|00024acbcdf0a6daa...|d4eb9395c8c0431ee...|   delivered|     2018-08-08 10:00:35|2018-08-08 10:10:18|         2018-08-10 13:28:00|          2018-08-14 13:32:39|          2018-08-20 00:00:00|00024acbcdf0a6daa...|            1|7634da152a4610f15...|9d7a1d34a50524090...|2018-08-15 10:10:18| 12.99|        12.79|00024acbcdf0a6daa...|                 1| credit_card|                   2|        25.78|f4028d019cb585648...|00024acbcdf0a6daa...|           4|                null|                  null| 2018-08-15 00:00:00|    2018-08-15 16:39:01|\n",
            "|00042b26cf59d7ce6...|58dbd0b2d70206bf4...|   delivered|     2017-02-04 13:57:51|2017-02-04 14:10:13|         2017-02-16 09:46:09|          2017-03-01 16:42:31|          2017-03-17 00:00:00|00042b26cf59d7ce6...|            1|ac6c3623068f30de0...|df560393f3a51e745...|2017-02-13 13:57:51| 199.9|        18.14|00042b26cf59d7ce6...|                 1| credit_card|                   3|       218.04|940144190dcba6351...|00042b26cf59d7ce6...|           5|                null|  Gostei pois veio ...| 2017-03-02 00:00:00|    2017-03-03 10:54:59|\n",
            "|00054e8431b9d7675...|32e2e6ab09e778d99...|   delivered|     2017-12-10 11:53:48|2017-12-10 12:10:31|         2017-12-12 01:07:48|          2017-12-18 22:03:38|          2018-01-04 00:00:00|00054e8431b9d7675...|            1|8d4f2bb7e93e6710a...|7040e82f899a04d1b...|2017-12-14 12:10:31|  19.9|        11.85|00054e8431b9d7675...|                 1| credit_card|                   1|        31.75|0381de7572d99d752...|00054e8431b9d7675...|           4|                null|                  null| 2017-12-19 00:00:00|    2017-12-29 02:40:12|\n",
            "|0005a1a1728c9d785...|16150771dfd477626...|   delivered|     2018-03-19 18:40:33|2018-03-20 18:35:21|         2018-03-28 00:37:42|          2018-03-29 18:17:31|          2018-03-29 00:00:00|0005a1a1728c9d785...|            1|310ae3c140ff94b03...|a416b6a846a117243...|2018-03-26 18:31:29|145.95|        11.65|0005a1a1728c9d785...|                 1| credit_card|                   3|        157.6|67b1ab8f3ec19d5a9...|0005a1a1728c9d785...|           1|                null|  Na descrição do p...|                null|                   null|\n",
            "|0005f50442cb953dc...|351d3cb2cee3c7fd0...|   delivered|     2018-07-02 13:59:39|2018-07-02 14:10:56|         2018-07-03 14:25:00|          2018-07-04 17:28:31|          2018-07-23 00:00:00|0005f50442cb953dc...|            1|4535b0e1091c278df...|ba143b05f0110f0dc...|2018-07-06 14:10:56| 53.99|         11.4|0005f50442cb953dc...|                 1| credit_card|                   1|        65.39|5c0b7e34ed85ec659...|0005f50442cb953dc...|           4|                null|                  null| 2018-07-05 00:00:00|    2018-07-05 23:17:04|\n",
            "|00063b381e2406b52...|6a899e55865de6549...|   delivered|     2018-07-27 17:21:27|2018-07-27 18:00:06|         2018-07-30 14:52:00|          2018-08-07 13:56:52|          2018-08-07 00:00:00|00063b381e2406b52...|            1|f177554ea93259a5b...|8602a61d680a10a82...|2018-07-31 17:30:39|  45.0|        12.98|00063b381e2406b52...|                 1| credit_card|                   5|        57.98|5595c192e3c1566ab...|00063b381e2406b52...|           5|                null|  Fiquei um pouco t...| 2018-08-08 00:00:00|    2018-08-09 00:12:30|\n",
            "|0006ec9db01a64e59...|5d178120c29c61748...|   delivered|     2018-07-24 17:04:17|2018-07-24 17:24:20|         2018-07-25 11:02:00|          2018-07-31 01:04:15|          2018-08-22 00:00:00|0006ec9db01a64e59...|            1|99a4788cb24856965...|4a3ca9315b744ce9f...|2018-07-26 17:24:20|  74.0|        23.32|0006ec9db01a64e59...|                 1| credit_card|                   4|        97.32|6322c405c0f34bf3a...|0006ec9db01a64e59...|           5|                 Boa|  Excelente serviço...| 2018-07-31 00:00:00|    2018-08-01 23:05:10|\n",
            "|0008288aa423d2a3f...|2355af7c75e7c98b4...|   delivered|     2018-02-13 22:10:21|2018-02-15 03:55:52|         2018-02-20 18:23:28|          2018-02-26 13:55:22|          2018-03-06 00:00:00|0008288aa423d2a3f...|            1|368c6c730842d7801...|1f50f920176fa81da...|2018-02-21 02:55:52|  49.9|        13.37|0008288aa423d2a3f...|                 1|      boleto|                   1|       126.54|5505c1cce299b1e0b...|0008288aa423d2a3f...|           5|                null|                  null| 2018-02-27 00:00:00|    2018-03-02 10:20:40|\n",
            "|0008288aa423d2a3f...|2355af7c75e7c98b4...|   delivered|     2018-02-13 22:10:21|2018-02-15 03:55:52|         2018-02-20 18:23:28|          2018-02-26 13:55:22|          2018-03-06 00:00:00|0008288aa423d2a3f...|            2|368c6c730842d7801...|1f50f920176fa81da...|2018-02-21 02:55:52|  49.9|        13.37|0008288aa423d2a3f...|                 1|      boleto|                   1|       126.54|5505c1cce299b1e0b...|0008288aa423d2a3f...|           5|                null|                  null| 2018-02-27 00:00:00|    2018-03-02 10:20:40|\n",
            "|0009792311464db53...|2a30c97668e81df7c...|   delivered|     2018-08-14 20:43:09|2018-08-15 12:15:10|         2018-08-15 15:28:00|          2018-08-22 12:02:27|          2018-08-28 00:00:00|0009792311464db53...|            1|8cab8abac59158715...|530ec6109d11eaaf8...|2018-08-17 12:15:10|  99.9|        27.65|0009792311464db53...|                 1|      boleto|                   1|       127.55|236ccf78a5c4c350c...|0009792311464db53...|           5|                null|                  null| 2018-08-23 00:00:00|    2018-08-23 16:11:56|\n",
            "|000aed2e25dbad2f9...|fff5169e583fd07fa...|   delivered|     2018-05-11 20:33:38|2018-05-11 20:57:03|         2018-05-16 14:26:00|          2018-05-18 16:46:31|          2018-05-22 00:00:00|000aed2e25dbad2f9...|            1|4fa33915031a8cde0...|fe2032dab1a61af87...|2018-05-16 20:57:03| 144.0|         8.77|000aed2e25dbad2f9...|                 1| credit_card|                   1|       152.77|00800678dcf28b0ea...|000aed2e25dbad2f9...|           1|produto não entregue|  Mudo minha opiniã...|                null|                   null|\n",
            "|000c3e6612759851c...|3773bcf1a6fbd2923...|   delivered|     2017-08-12 10:08:57|2017-08-15 03:35:32|         2017-08-15 15:32:51|          2017-08-19 15:22:17|          2017-09-01 00:00:00|000c3e6612759851c...|            1|b50c950aba0dcead2...|218d46b86c1881d02...|2017-08-21 03:33:13|  99.0|        13.71|000c3e6612759851c...|                 1|      boleto|                   1|       112.71|51b9186876d4708a9...|000c3e6612759851c...|           5|                null|  Recebi td certinh...| 2017-08-20 00:00:00|    2017-08-20 19:56:31|\n",
            "|000e906b789b55f64...|6a3b2fc9f270df258...|   delivered|     2017-11-21 18:54:23|2017-11-21 19:09:02|         2017-11-22 20:46:54|          2017-12-09 17:27:23|          2017-12-07 00:00:00|000e906b789b55f64...|            1|57d79905de06d8897...|ea8482cd71df3c196...|2017-11-27 19:09:02| 21.99|        11.85|000e906b789b55f64...|                 1| credit_card|                   3|        33.84|a5fb93d6a9e707bd8...|000e906b789b55f64...|           3|                null|                  null| 2017-12-09 00:00:00|    2017-12-11 09:55:13|\n",
            "|000f25f4d72195062...|86ade8ebc14f18dd6...|   delivered|     2018-03-07 10:33:13|2018-03-07 11:10:11|         2018-03-16 15:58:31|          2018-03-22 16:51:52|          2018-04-11 00:00:00|000f25f4d72195062...|            1|1c05e0964302b6cf6...|7c67e1448b00f6e96...|2018-03-21 11:10:11|119.99|         44.4|000f25f4d72195062...|                 1| credit_card|                   1|       164.39|775038877f3c50777...|000f25f4d72195062...|           4|                null|                  null| 2018-03-23 00:00:00|    2018-03-24 04:17:06|\n",
            "|0011d82c4b53e22e8...|2013d892495e1a101...|   delivered|     2018-01-16 21:43:23|2018-01-16 21:51:25|         2018-01-23 22:08:06|          2018-01-26 22:14:02|          2018-02-15 00:00:00|0011d82c4b53e22e8...|            1|c389f712c4b4510bc...|bfd27a966d91cfaaf...|2018-01-29 21:51:25| 289.0|        26.33|0011d82c4b53e22e8...|                 1| credit_card|                   2|       315.33|04a15fdeccc0572ca...|0011d82c4b53e22e8...|           4|                null|                  null| 2018-01-27 00:00:00|    2018-01-28 13:18:49|\n",
            "|0014ae671de39511f...|41065d9dcea52218c...|   delivered|     2017-05-22 13:49:03|2017-05-23 03:15:24|         2017-05-29 09:04:02|          2017-06-07 13:52:52|          2017-06-13 00:00:00|0014ae671de39511f...|            1|23365beed316535b4...|92eb0f42c21942b65...|2017-05-29 03:15:24|  16.5|         14.1|0014ae671de39511f...|                 1|      boleto|                   1|         30.6|81c4070474d420a77...|0014ae671de39511f...|           5|                null|                  null| 2017-06-08 00:00:00|    2017-06-09 14:25:13|\n",
            "|0015ebb40fb17286b...|da43a556bf5c36a11...|   delivered|     2018-01-14 09:01:36|2018-01-14 09:11:24|         2018-01-17 22:56:36|          2018-02-01 20:29:51|          2018-02-15 00:00:00|0015ebb40fb17286b...|            1|50fd2b788dc166edd...|8b321bb669392f516...|2018-01-18 09:11:24|  21.9|         15.1|0015ebb40fb17286b...|                 1| credit_card|                   1|         37.0|282ec15daab81bd9a...|0015ebb40fb17286b...|           5|                null|                  null| 2018-02-02 00:00:00|    2018-02-03 09:38:42|\n",
            "|001862358bf858722...|2cf869dd40c98f296...|   delivered|     2018-02-06 19:11:57|2018-02-07 19:10:37|         2018-02-08 17:44:13|          2018-02-15 22:57:01|          2018-03-02 00:00:00|001862358bf858722...|            1|c6dd917a0be2a7045...|7a67c85e85bb2ce85...|2018-02-13 19:10:37| 99.99|        13.72|001862358bf858722...|                 1| credit_card|                   2|       113.71|164fba09ca80765e4...|001862358bf858722...|           5|                null|  Adorei, compro no...| 2018-02-16 00:00:00|    2018-02-20 14:11:32|\n",
            "+--------------------+--------------------+------------+------------------------+-------------------+----------------------------+-----------------------------+-----------------------------+--------------------+-------------+--------------------+--------------------+-------------------+------+-------------+--------------------+------------------+------------+--------------------+-------------+--------------------+--------------------+------------+--------------------+----------------------+--------------------+-----------------------+\n",
            "only showing top 20 rows\n",
            "\n"
          ]
        }
      ],
      "source": [
        "df_orders_join.show()"
      ]
    },
    {
      "cell_type": "markdown",
      "metadata": {
        "id": "r3NDqMaBc0FS"
      },
      "source": [
        "## 3 - Perguntas de negócio:\n",
        "- Qual foi o faturamento mês a mês? Qual o mês com maior número de pedidos?\n",
        "- Qual o ticket médio dos pedidos?\n",
        "- Qual o dia da semana com maior número de pedidos?\n",
        "- Quais são os Top 10 produtos mais bem avaliados? O produto deve ter pelo menos 5 avaliações.\n",
        "- Qual o faturamento mensal por método de pagamento?\n",
        "- Qual a categoria mais vendida na empresa?\n",
        "- Qual vendedor teve a melhor performance mês a mês?"
      ]
    },
    {
      "cell_type": "markdown",
      "metadata": {
        "id": "Kw5xzYgbayrB"
      },
      "source": [
        "## 4 - Qual foi o faturamento mês a mês? Qual o mês com maior número de pedidos?"
      ]
    },
    {
      "cell_type": "code",
      "execution_count": null,
      "metadata": {
        "colab": {
          "background_save": true
        },
        "id": "V68KihiDbAnK"
      },
      "outputs": [],
      "source": [
        "#extraindo os dados do DF original e extraindo o mês, o dia da semana e o ano\n",
        "df_vendas_por_ano_mes = df_orders_join \\\n",
        "    .withColumn(\"ano\", date_format(\"order_purchase_timestamp\", \"yyyy\")) \\\n",
        "    .withColumn(\"mes\", date_format(\"order_purchase_timestamp\", \"MM\")) \\\n",
        "    .withColumn(\"dia_da_semana\", date_format(\"order_purchase_timestamp\", \"E\"))\n"
      ]
    },
    {
      "cell_type": "code",
      "execution_count": null,
      "metadata": {
        "colab": {
          "background_save": true,
          "base_uri": "https://localhost:8080/"
        },
        "id": "qmkDP_pp7Fxd",
        "outputId": "eff5f6c8-83be-4050-bda5-483c402ec45b"
      },
      "outputs": [
        {
          "name": "stdout",
          "output_type": "stream",
          "text": [
            "+---+----+------------------+\n",
            "|mes| ano|       faturamento|\n",
            "+---+----+------------------+\n",
            "| 09|2016|132.39000000000001|\n",
            "| 10|2016|50272.470000000096|\n",
            "| 12|2016|              10.9|\n",
            "| 01|2017| 128589.0600000002|\n",
            "| 02|2017|259477.97999999818|\n",
            "| 03|2017|392081.03999999457|\n",
            "| 04|2017|389909.31999999506|\n",
            "| 05|2017| 544303.1299999962|\n",
            "| 06|2017|  453843.429999994|\n",
            "| 07|2017| 531931.7299999974|\n",
            "| 08|2017| 599081.0599999983|\n",
            "| 09|2017| 660526.8199999983|\n",
            "| 10|2017| 689624.8199999984|\n",
            "| 11|2017|1045441.0000000176|\n",
            "| 12|2017| 761677.3200000012|\n",
            "| 01|2018| 982295.3000000179|\n",
            "| 02|2018| 882310.8200000107|\n",
            "| 03|2018|1018392.5100000163|\n",
            "| 04|2018|1024458.7700000148|\n",
            "| 05|2018|1025932.0700000152|\n",
            "+---+----+------------------+\n",
            "only showing top 20 rows\n",
            "\n"
          ]
        }
      ],
      "source": [
        "#agrupa os dados por mes e ano, soma o preco dos agrupamentos e ordena-os\n",
        "df_faturamento_ano_mes = df_vendas_por_ano_mes \\\n",
        "    .groupBy(\"mes\", \"ano\") \\\n",
        "    .agg(sum(\"price\").alias(\"faturamento\")) \\\n",
        "    .orderBy(\"ano\", \"mes\") \\\n",
        "\n",
        "#mostra o faturamento por ano e mes\n",
        "df_faturamento_ano_mes.show()"
      ]
    },
    {
      "cell_type": "code",
      "execution_count": null,
      "metadata": {
        "colab": {
          "background_save": true,
          "base_uri": "https://localhost:8080/"
        },
        "id": "2OcAZ28c-UB-",
        "outputId": "02cf5904-77ae-4bcd-f126-c19c8120966f"
      },
      "outputs": [
        {
          "name": "stdout",
          "output_type": "stream",
          "text": [
            "O mês com o maior número de vendas foi o de número: 08\n"
          ]
        }
      ],
      "source": [
        "##descobrindo o mês com maior numero de pedidos\n",
        "\n",
        "#agrupar as vendas por mes\n",
        "pedidos_por_mes = df_vendas_por_ano_mes \\\n",
        "    .groupBy(\"mes\") \\\n",
        "    .agg(count(\"sql_items.order_id\").alias(\"numero vendas\")) \n",
        "\n",
        "#ordena por numero de vendas e pega o primeiro item em ordem decrescente\n",
        "mes_maior_numero_vendas = pedidos_por_mes.orderBy(desc(\"numero vendas\")).first()[\"mes\"] \n",
        "\n",
        "#mostra o mês com maior número de vendas\n",
        "print(\"O mês com o maior número de vendas foi o de número:\", mes_maior_numero_vendas)\n"
      ]
    },
    {
      "cell_type": "markdown",
      "metadata": {
        "id": "KLsDef10bKk9"
      },
      "source": [
        "## 5 - Qual o ticket médio dos pedidos?"
      ]
    },
    {
      "cell_type": "code",
      "execution_count": null,
      "metadata": {
        "colab": {
          "background_save": true,
          "base_uri": "https://localhost:8080/"
        },
        "id": "CPDcuRlobOU7",
        "outputId": "1b6c5aec-b8d5-42b2-e09d-40e178311add"
      },
      "outputs": [
        {
          "name": "stdout",
          "output_type": "stream",
          "text": [
            "+------------------+\n",
            "|        avg(price)|\n",
            "+------------------+\n",
            "|120.52434879704333|\n",
            "+------------------+\n",
            "\n"
          ]
        }
      ],
      "source": [
        "df_vendas_por_ano_mes.agg({'price': 'avg'}).show()"
      ]
    },
    {
      "cell_type": "markdown",
      "metadata": {
        "id": "RxEO-vmqbQhL"
      },
      "source": [
        "## 6 - Qual o dia da semana com maior número de pedidos?"
      ]
    },
    {
      "cell_type": "code",
      "execution_count": null,
      "metadata": {
        "colab": {
          "background_save": true,
          "base_uri": "https://localhost:8080/"
        },
        "id": "b3SAk88vbUv9",
        "outputId": "4a9654e7-9180-41fd-df09-a824d189d8d8"
      },
      "outputs": [
        {
          "name": "stdout",
          "output_type": "stream",
          "text": [
            "O dia da semana com o maior número de vendas foi: Tue\n"
          ]
        }
      ],
      "source": [
        "#conta os pedidos e os agrupa por dia da semana\n",
        "df_pedidos_por_semana = df_vendas_por_ano_mes \\\n",
        "  .groupBy('dia_da_semana') \\\n",
        "  .agg(count('sql_items.order_id').alias('numero_pedidos')) \\\n",
        "\n",
        "#ordena o agrupamento do maior para o menor e pega o primeiro item\n",
        "dia_semana_com_mais_pedidos = df_pedidos_por_semana.orderBy(desc('numero_pedidos')).first()['dia_da_semana']\n",
        "\n",
        "#imprime o dia da semana de maior numero de vendas\n",
        "print(\"O dia da semana com o maior número de vendas foi:\", dia_semana_com_mais_pedidos)\n"
      ]
    },
    {
      "cell_type": "markdown",
      "metadata": {
        "id": "0We-F9hk8HIn"
      },
      "source": [
        "## 7 - Quais são os Top 10 produtos mais bem avaliados? O produto deve ter pelo menos 5 avaliações."
      ]
    },
    {
      "cell_type": "code",
      "execution_count": null,
      "metadata": {
        "colab": {
          "background_save": true
        },
        "id": "kcwAj_0W8TLf"
      },
      "outputs": [],
      "source": [
        "#criando uma tabela temporária onde tem o numero de pedidos\n",
        "df_orders_join.createOrReplaceTempView('sql_orders_join')"
      ]
    },
    {
      "cell_type": "code",
      "execution_count": null,
      "metadata": {
        "colab": {
          "background_save": true,
          "base_uri": "https://localhost:8080/"
        },
        "id": "LLklj6oZjlDk",
        "outputId": "983815ed-7d7c-4f03-d377-bf3b8d0e6eb4"
      },
      "outputs": [
        {
          "name": "stdout",
          "output_type": "stream",
          "text": [
            "+--------------------+--------------+-------------+\n",
            "|          product_id|num_avaliacoes|soma_estrelas|\n",
            "+--------------------+--------------+-------------+\n",
            "|aca2eb7d00ea1a7b8...|           533|         2143|\n",
            "|99a4788cb24856965...|           517|         2024|\n",
            "|422879e10f4668299...|           507|         1991|\n",
            "|389d119b48cf3043d...|           405|         1663|\n",
            "|368c6c730842d7801...|           395|         1544|\n",
            "|53759a2ecddad2bb8...|           389|         1511|\n",
            "|d1c427060a0f73f6b...|           354|         1450|\n",
            "|53b36df67ebb7c415...|           324|         1361|\n",
            "|154e7e31ebfa09220...|           294|         1270|\n",
            "|3dd2a17168ec895c7...|           276|         1161|\n",
            "+--------------------+--------------+-------------+\n",
            "only showing top 10 rows\n",
            "\n"
          ]
        }
      ],
      "source": [
        "#agrupo por product_id, depois conto o numero de avaliacoes e somo as a quantidade de estrelas recebidas de cada produto\n",
        "#retiro os produtos que receberam menos de 5 avaliacoes com o .filter e ordeno a tabela do maior para o menor produto em soma de estrelas\n",
        "df_produtos_mais_bem_avaliados = df_orders_join \\\n",
        "  .groupBy('product_id') \\\n",
        "  .agg(count('review_score').alias('num_avaliacoes'), sum('review_score').alias('soma_estrelas')) \\\n",
        "  .filter(\"num_avaliacoes >= 5\") \\\n",
        "  .orderBy(desc('soma_estrelas'))\n",
        "\n",
        "#mostro os 10 produtos mais bem avaliados (com maior número de estrelas)\n",
        "df_produtos_mais_bem_avaliados.show(10)"
      ]
    },
    {
      "cell_type": "markdown",
      "metadata": {
        "id": "pEsncPjG8VqE"
      },
      "source": [
        "## 8 - Qual o faturamento mensal por método de pagamento?"
      ]
    },
    {
      "cell_type": "code",
      "execution_count": null,
      "metadata": {
        "colab": {
          "background_save": true,
          "base_uri": "https://localhost:8080/"
        },
        "id": "2UH9emgf8cdH",
        "outputId": "bc48ad1a-b490-4576-e26c-b848b12f0084"
      },
      "outputs": [
        {
          "name": "stdout",
          "output_type": "stream",
          "text": [
            "+---+----+------------+------------------+\n",
            "|mes| ano|payment_type|       faturamento|\n",
            "+---+----+------------+------------------+\n",
            "| 09|2016| credit_card|132.39000000000001|\n",
            "| 10|2016|      boleto|           7128.73|\n",
            "| 10|2016| credit_card| 41335.49000000005|\n",
            "| 10|2016|  debit_card|209.89000000000001|\n",
            "| 10|2016|     voucher|           1598.36|\n",
            "| 12|2016| credit_card|              10.9|\n",
            "| 01|2017|      boleto| 19897.47999999997|\n",
            "| 01|2017| credit_card| 98289.38000000027|\n",
            "| 01|2017|     voucher| 9813.329999999998|\n",
            "| 01|2017|  debit_card|            588.87|\n",
            "| 02|2017| credit_card|200339.37999999945|\n",
            "| 02|2017|      boleto| 47357.02000000008|\n",
            "| 02|2017|     voucher|10512.299999999994|\n",
            "| 02|2017|  debit_card|           1269.28|\n",
            "| 03|2017| credit_card|298680.48999999755|\n",
            "| 03|2017|      boleto| 66600.67000000023|\n",
            "| 03|2017|     voucher| 23674.32000000001|\n",
            "| 03|2017|  debit_card|3125.5600000000004|\n",
            "| 04|2017|  debit_card|2292.7200000000003|\n",
            "| 04|2017|      boleto| 67829.74000000024|\n",
            "+---+----+------------+------------------+\n",
            "only showing top 20 rows\n",
            "\n"
          ]
        }
      ],
      "source": [
        "#agrupa os dados por mes, ano e tipo de pagamento, soma o valor do preco da venda de cada agrupamento e os ordena\n",
        "faturamento_por_metodo_pgto = df_vendas_por_ano_mes \\\n",
        "  .groupBy('mes', 'ano', 'payment_type') \\\n",
        "  .agg(sum('price').alias('faturamento')) \\\n",
        "  .orderBy('ano', 'mes') \\\n",
        "  .show()"
      ]
    },
    {
      "cell_type": "markdown",
      "metadata": {
        "id": "xb-DRVvu8tph"
      },
      "source": [
        "## 9 - Qual a categoria mais vendida na empresa?"
      ]
    },
    {
      "cell_type": "code",
      "execution_count": null,
      "metadata": {
        "colab": {
          "background_save": true,
          "base_uri": "https://localhost:8080/"
        },
        "id": "JxPofxTo8xtH",
        "outputId": "fbfc6870-30c0-48c2-c47c-86da9f6ad42d"
      },
      "outputs": [
        {
          "name": "stdout",
          "output_type": "stream",
          "text": [
            "A categoria com o maior número de vendas foi: cama_mesa_banho\n"
          ]
        }
      ],
      "source": [
        "#cria a tabela temporária dos produtos porque preciso relacionar sua categoria com a order_id\n",
        "processed_products.createOrReplaceTempView(\"sql_products\")\n",
        "\n",
        "#join da tabela order_items e products para pegar sua caregoria\n",
        "df_vendas_e_categorias = spark.sql(\"\"\" SELECT *\n",
        "  FROM sql_items\n",
        "  INNER JOIN sql_products\n",
        "  ON sql_items.product_id == sql_products.product_id;\n",
        "\"\"\")\n",
        "\n",
        "#agrupar as vendas por categoria\n",
        "df_categorias_mais_vendidas = df_vendas_e_categorias \\\n",
        "  .groupBy('product_category_name') \\\n",
        "  .agg(count('order_id').alias('num_vendas')) \\\n",
        "\n",
        "#criação da variável da categoria mais vendida, ordenação para decrescente e funcao para pegar o primeiro item\n",
        "categoria_mais_vendida = df_categorias_mais_vendidas.orderBy(desc('num_vendas')).first()['product_category_name']\n",
        "print(\"A categoria com o maior número de vendas foi:\", categoria_mais_vendida)"
      ]
    },
    {
      "cell_type": "markdown",
      "metadata": {
        "id": "wBJDXwBR8zR6"
      },
      "source": [
        "## 10 - Qual vendedor teve a melhor performance mês a mês?"
      ]
    },
    {
      "cell_type": "code",
      "execution_count": null,
      "metadata": {
        "colab": {
          "background_save": true,
          "base_uri": "https://localhost:8080/"
        },
        "id": "aaU7zoox85M7",
        "outputId": "a4c7ae92-5132-43f3-caf6-29e9f67002d0"
      },
      "outputs": [
        {
          "name": "stdout",
          "output_type": "stream",
          "text": [
            "+---+----+--------------------+----------+\n",
            "|mes| ano|           seller_id|num_vendas|\n",
            "+---+----+--------------------+----------+\n",
            "| 11|2017|1f50f920176fa81da...|       371|\n",
            "| 05|2018|955fee9216a65b617...|       262|\n",
            "| 01|2018|955fee9216a65b617...|       256|\n",
            "| 04|2018|955fee9216a65b617...|       241|\n",
            "| 11|2017|cc419e0650a3c5ba7...|       222|\n",
            "| 07|2018|6560211a19b47992c...|       220|\n",
            "| 05|2018|7d13fca1522535862...|       216|\n",
            "| 01|2018|3d871de0142ce09b7...|       213|\n",
            "| 08|2018|6560211a19b47992c...|       211|\n",
            "| 11|2017|4a3ca9315b744ce9f...|       204|\n",
            "| 03|2018|7c67e1448b00f6e96...|       196|\n",
            "| 11|2017|6560211a19b47992c...|       192|\n",
            "| 12|2017|cc419e0650a3c5ba7...|       192|\n",
            "| 01|2018|da8622b14eb17ae28...|       192|\n",
            "| 02|2018|1f50f920176fa81da...|       190|\n",
            "| 05|2018|1025f0e2d44d7041d...|       187|\n",
            "| 01|2018|8b321bb669392f516...|       185|\n",
            "| 01|2018|ea8482cd71df3c196...|       185|\n",
            "| 02|2018|8b321bb669392f516...|       183|\n",
            "| 06|2018|6560211a19b47992c...|       180|\n",
            "+---+----+--------------------+----------+\n",
            "only showing top 20 rows\n",
            "\n"
          ]
        }
      ],
      "source": [
        "#melhor performance por numero de vendas, ordenado por maior numero de vendas\n",
        "df_melhores_vendedores_por_mes = df_vendas_por_ano_mes \\\n",
        "  .groupBy('mes', 'ano', 'seller_id') \\\n",
        "  .agg(count('sql_items.order_id').alias('num_vendas')) \\\n",
        "  .orderBy(desc('num_vendas')) \\\n",
        "  .show()\n",
        "\n",
        "#melhor performance por faturamento na célula abaixo\n"
      ]
    },
    {
      "cell_type": "code",
      "execution_count": null,
      "metadata": {
        "colab": {
          "background_save": true,
          "base_uri": "https://localhost:8080/"
        },
        "id": "OKnDgjsryh47",
        "outputId": "65fb23f8-58c7-4112-8b5c-07ae1c7a42f5"
      },
      "outputs": [
        {
          "name": "stdout",
          "output_type": "stream",
          "text": [
            "+---+----+--------------------+------------------+\n",
            "|mes| ano|           seller_id|       faturamento|\n",
            "+---+----+--------------------+------------------+\n",
            "| 09|2017|53243585a1d6dc264...| 75533.67000000003|\n",
            "| 10|2017|53243585a1d6dc264...|           43614.4|\n",
            "| 08|2017|53243585a1d6dc264...|           35776.0|\n",
            "| 05|2018|7d13fca1522535862...|32219.809999999998|\n",
            "| 03|2018|7d13fca1522535862...|          28612.44|\n",
            "| 05|2018|955fee9216a65b617...|28064.309999999976|\n",
            "| 05|2017|7e93a43ef30c4f03f...|27744.420000000006|\n",
            "| 04|2018|7d13fca1522535862...| 27600.88999999999|\n",
            "| 10|2017|7e93a43ef30c4f03f...|27381.509999999995|\n",
            "| 03|2018|4869f7a5dfa277a7d...|27169.999999999993|\n",
            "| 03|2018|7c67e1448b00f6e96...|25843.969999999972|\n",
            "| 03|2018|5dceca129747e92ff...|           24981.1|\n",
            "| 11|2017|53243585a1d6dc264...|          23213.96|\n",
            "| 12|2017|fa1c13f2614d7b5c4...| 22845.60999999999|\n",
            "| 04|2017|59417c56835dd8e2e...|           22665.0|\n",
            "| 11|2017|46dc3b2cc0980fb8e...|22388.819999999978|\n",
            "| 04|2018|955fee9216a65b617...|21969.099999999977|\n",
            "| 04|2018|4869f7a5dfa277a7d...|21553.399999999987|\n",
            "| 11|2017|4a3ca9315b744ce9f...|20844.249999999975|\n",
            "| 01|2018|4869f7a5dfa277a7d...|20541.299999999996|\n",
            "+---+----+--------------------+------------------+\n",
            "only showing top 20 rows\n",
            "\n"
          ]
        }
      ],
      "source": [
        "#melhor performance por faturamento ordenado por maior faturamento\n",
        "df_melhores_vendedores_por_mes = df_vendas_por_ano_mes \\\n",
        "  .groupBy('mes', 'ano', 'seller_id') \\\n",
        "  .agg(sum('price').alias('faturamento')) \\\n",
        "  .orderBy(desc('faturamento')) \\\n",
        "  .show()\n"
      ]
    }
  ],
  "metadata": {
    "colab": {
      "provenance": []
    },
    "kernelspec": {
      "display_name": "Python 3",
      "name": "python3"
    },
    "language_info": {
      "name": "python"
    }
  },
  "nbformat": 4,
  "nbformat_minor": 0
}